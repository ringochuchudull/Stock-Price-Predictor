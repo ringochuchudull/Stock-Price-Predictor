{
 "cells": [
  {
   "cell_type": "markdown",
   "metadata": {},
   "source": [
    "### Stock model predictor\n",
    "\n",
    "\n",
    "This notebook demonstrate a novelty approach of using deep neural network for stock price prediction model. We compare the result to Gaussian process regressor with Metern and RBF Kernals "
   ]
  },
  {
   "cell_type": "markdown",
   "metadata": {},
   "source": [
    "Import required libraries. Including Numpy, pandas, Matplotlib, Keras for\n",
    "data manipulation, building Neural network models"
   ]
  },
  {
   "cell_type": "code",
   "execution_count": 33,
   "metadata": {},
   "outputs": [
    {
     "data": {
      "text/plain": [
       "<Figure size 1440x720 with 0 Axes>"
      ]
     },
     "execution_count": 33,
     "metadata": {},
     "output_type": "execute_result"
    },
    {
     "data": {
      "text/plain": [
       "<Figure size 1440x720 with 0 Axes>"
      ]
     },
     "metadata": {},
     "output_type": "display_data"
    }
   ],
   "source": [
    "import math\n",
    "import numpy as np\n",
    "import pandas as pd\n",
    "import matplotlib.pyplot as plt\n",
    "plt.figure(figsize=(20,10))"
   ]
  },
  {
   "cell_type": "code",
   "execution_count": 34,
   "metadata": {},
   "outputs": [],
   "source": [
    "from keras.layers.core import Dense, Activation, Dropout\n",
    "from keras.layers.recurrent import LSTM\n",
    "from keras.models import Sequential, load_model"
   ]
  },
  {
   "cell_type": "code",
   "execution_count": 35,
   "metadata": {},
   "outputs": [],
   "source": [
    "from sklearn.cross_validation import  train_test_split\n",
    "from sklearn.preprocessing import MinMaxScaler\n",
    "from sklearn.metrics import mean_squared_error"
   ]
  },
  {
   "cell_type": "markdown",
   "metadata": {},
   "source": [
    "Define a function to read the csv file which contains the stock data,\n",
    "Read sample data"
   ]
  },
  {
   "cell_type": "code",
   "execution_count": 36,
   "metadata": {},
   "outputs": [
    {
     "data": {
      "text/html": [
       "<div>\n",
       "<style scoped>\n",
       "    .dataframe tbody tr th:only-of-type {\n",
       "        vertical-align: middle;\n",
       "    }\n",
       "\n",
       "    .dataframe tbody tr th {\n",
       "        vertical-align: top;\n",
       "    }\n",
       "\n",
       "    .dataframe thead th {\n",
       "        text-align: right;\n",
       "    }\n",
       "</style>\n",
       "<table border=\"1\" class=\"dataframe\">\n",
       "  <thead>\n",
       "    <tr style=\"text-align: right;\">\n",
       "      <th></th>\n",
       "      <th>Date</th>\n",
       "      <th>Open</th>\n",
       "      <th>High</th>\n",
       "      <th>Low</th>\n",
       "      <th>Close</th>\n",
       "      <th>Adj Close</th>\n",
       "      <th>Volume</th>\n",
       "    </tr>\n",
       "  </thead>\n",
       "  <tbody>\n",
       "    <tr>\n",
       "      <th>0</th>\n",
       "      <td>27/11/2017</td>\n",
       "      <td>98.309998</td>\n",
       "      <td>99.129997</td>\n",
       "      <td>97.930000</td>\n",
       "      <td>97.930000</td>\n",
       "      <td>95.736626</td>\n",
       "      <td>13076200</td>\n",
       "    </tr>\n",
       "    <tr>\n",
       "      <th>1</th>\n",
       "      <td>28/11/2017</td>\n",
       "      <td>98.209999</td>\n",
       "      <td>101.699997</td>\n",
       "      <td>97.970001</td>\n",
       "      <td>101.360001</td>\n",
       "      <td>99.089813</td>\n",
       "      <td>16773000</td>\n",
       "    </tr>\n",
       "    <tr>\n",
       "      <th>2</th>\n",
       "      <td>29/11/2017</td>\n",
       "      <td>102.410004</td>\n",
       "      <td>104.220001</td>\n",
       "      <td>101.959999</td>\n",
       "      <td>103.730003</td>\n",
       "      <td>101.406731</td>\n",
       "      <td>21105500</td>\n",
       "    </tr>\n",
       "    <tr>\n",
       "      <th>3</th>\n",
       "      <td>30/11/2017</td>\n",
       "      <td>104.739998</td>\n",
       "      <td>106.660004</td>\n",
       "      <td>104.040001</td>\n",
       "      <td>104.519997</td>\n",
       "      <td>102.179024</td>\n",
       "      <td>23945900</td>\n",
       "    </tr>\n",
       "    <tr>\n",
       "      <th>4</th>\n",
       "      <td>01/12/2017</td>\n",
       "      <td>104.900002</td>\n",
       "      <td>105.320000</td>\n",
       "      <td>102.199997</td>\n",
       "      <td>104.790001</td>\n",
       "      <td>102.442986</td>\n",
       "      <td>19683500</td>\n",
       "    </tr>\n",
       "  </tbody>\n",
       "</table>\n",
       "</div>"
      ],
      "text/plain": [
       "         Date        Open        High         Low       Close   Adj Close  \\\n",
       "0  27/11/2017   98.309998   99.129997   97.930000   97.930000   95.736626   \n",
       "1  28/11/2017   98.209999  101.699997   97.970001  101.360001   99.089813   \n",
       "2  29/11/2017  102.410004  104.220001  101.959999  103.730003  101.406731   \n",
       "3  30/11/2017  104.739998  106.660004  104.040001  104.519997  102.179024   \n",
       "4  01/12/2017  104.900002  105.320000  102.199997  104.790001  102.442986   \n",
       "\n",
       "     Volume  \n",
       "0  13076200  \n",
       "1  16773000  \n",
       "2  21105500  \n",
       "3  23945900  \n",
       "4  19683500  "
      ]
     },
     "execution_count": 36,
     "metadata": {},
     "output_type": "execute_result"
    }
   ],
   "source": [
    "np.random.seed(7)\n",
    "def readStockData(file, path='./data/'):\n",
    "\n",
    "    data = pd.read_csv(path+file)\n",
    "    return data\n",
    "\n",
    "dataset = readStockData('JPM.csv')\n",
    "dataset.head()"
   ]
  },
  {
   "cell_type": "markdown",
   "metadata": {},
   "source": [
    "Data cleaning method to remove unwanted data entry, In this case we look at close price in particular"
   ]
  },
  {
   "cell_type": "code",
   "execution_count": 37,
   "metadata": {},
   "outputs": [
    {
     "data": {
      "image/png": "[encoded data removed]",
      "text/plain": [
       "<Figure size 432x288 with 1 Axes>"
      ]
     },
     "metadata": {
      "needs_background": "light"
     },
     "output_type": "display_data"
    }
   ],
   "source": [
    "dataset['Date'] = pd.to_datetime(dataset['Date'])\n",
    "dataset['Close'] = pd.to_numeric(dataset['Close'], downcast='float')\n",
    "dataset.set_index('Date',inplace=True)\n",
    "\n",
    "close = dataset['Close']\n",
    "close = close.values.reshape(len(close), 1)\n",
    "plt.plot(close)\n",
    "plt.show()"
   ]
  },
  {
   "cell_type": "markdown",
   "metadata": {},
   "source": [
    "#### The below function creates sets of time series data from a continuous data"
   ]
  },
  {
   "cell_type": "code",
   "execution_count": 38,
   "metadata": {},
   "outputs": [],
   "source": [
    "series=7\n",
    "def create_ts(ds, series=7):\n",
    "    X, Y =[], []\n",
    "    for i in range(len(ds)-series - 1):\n",
    "        item = ds[i:(i+series), 0]\n",
    "        X.append(item)\n",
    "        Y.append(ds[i+series, 0])\n",
    "    return np.array(X), np.array(Y)\n"
   ]
  },
  {
   "cell_type": "markdown",
   "metadata": {},
   "source": [
    "### LSTM method for stock prediction\n",
    "\n",
    "The below code is organised as follow\n",
    "- Scaling data as preprocessing\n",
    "- Covert stock data to time series data\n",
    "- Define two layers models for LSTM model and train the model\n",
    "- Calculate Mean square loss error."
   ]
  },
  {
   "cell_type": "code",
   "execution_count": 39,
   "metadata": {},
   "outputs": [],
   "source": [
    "scaler = MinMaxScaler(feature_range=(0,1))\n",
    "close  = scaler.fit_transform(close)\n",
    "TrainData , TestData = close[0:220], close[220:]"
   ]
  },
  {
   "cell_type": "code",
   "execution_count": 40,
   "metadata": {},
   "outputs": [],
   "source": [
    "trainX, trainY = create_ts(TrainData, series=7)\n",
    "testX, testY = create_ts(TestData, series=7)\n",
    "\n",
    "trainX = np.reshape(trainX, (trainX.shape[0], trainX.shape[1], 1))\n",
    "testX = np.reshape(testX, (testX.shape[0], testX.shape[1], 1))"
   ]
  },
  {
   "cell_type": "markdown",
   "metadata": {},
   "source": [
    "Model definition: Two layers with cell states 16 and 30, Summarised by a fully-connected layer"
   ]
  },
  {
   "cell_type": "code",
   "execution_count": 41,
   "metadata": {},
   "outputs": [
    {
     "name": "stdout",
     "output_type": "stream",
     "text": [
      "Epoch 1/150\n",
      "212/212 [==============================] - 2s 11ms/step - loss: 0.3743\n",
      "Epoch 2/150\n",
      "212/212 [==============================] - 0s 766us/step - loss: 0.1915\n",
      "Epoch 3/150\n",
      "212/212 [==============================] - 0s 807us/step - loss: 0.0472\n",
      "Epoch 4/150\n",
      "212/212 [==============================] - 0s 1ms/step - loss: 0.0301\n",
      "Epoch 5/150\n",
      "212/212 [==============================] - 0s 1ms/step - loss: 0.0202\n",
      "Epoch 6/150\n",
      "212/212 [==============================] - 0s 1ms/step - loss: 0.0150\n",
      "Epoch 7/150\n",
      "212/212 [==============================] - 0s 809us/step - loss: 0.0147\n",
      "Epoch 8/150\n",
      "212/212 [==============================] - 0s 721us/step - loss: 0.0141\n",
      "Epoch 9/150\n",
      "212/212 [==============================] - 0s 930us/step - loss: 0.0134\n",
      "Epoch 10/150\n",
      "212/212 [==============================] - 0s 1ms/step - loss: 0.0126\n",
      "Epoch 11/150\n",
      "212/212 [==============================] - 0s 1ms/step - loss: 0.0138\n",
      "Epoch 12/150\n",
      "212/212 [==============================] - 0s 1ms/step - loss: 0.0142\n",
      "Epoch 13/150\n",
      "212/212 [==============================] - 0s 1ms/step - loss: 0.0137\n",
      "Epoch 14/150\n",
      "212/212 [==============================] - 0s 1ms/step - loss: 0.0133\n",
      "Epoch 15/150\n",
      "212/212 [==============================] - 0s 1ms/step - loss: 0.0129\n",
      "Epoch 16/150\n",
      "212/212 [==============================] - 0s 1ms/step - loss: 0.0129\n",
      "Epoch 17/150\n",
      "212/212 [==============================] - 0s 1ms/step - loss: 0.0133\n",
      "Epoch 18/150\n",
      "212/212 [==============================] - 0s 2ms/step - loss: 0.0132\n",
      "Epoch 19/150\n",
      "212/212 [==============================] - 0s 1ms/step - loss: 0.0131\n",
      "Epoch 20/150\n",
      "212/212 [==============================] - 0s 1ms/step - loss: 0.0123\n",
      "Epoch 21/150\n",
      "212/212 [==============================] - 0s 720us/step - loss: 0.0126\n",
      "Epoch 22/150\n",
      "212/212 [==============================] - 0s 1ms/step - loss: 0.0124\n",
      "Epoch 23/150\n",
      "212/212 [==============================] - 0s 790us/step - loss: 0.0126\n",
      "Epoch 24/150\n",
      "212/212 [==============================] - 0s 1ms/step - loss: 0.0124\n",
      "Epoch 25/150\n",
      "212/212 [==============================] - 0s 751us/step - loss: 0.0119\n",
      "Epoch 26/150\n",
      "212/212 [==============================] - 0s 793us/step - loss: 0.0134\n",
      "Epoch 27/150\n",
      "212/212 [==============================] - 0s 806us/step - loss: 0.0125\n",
      "Epoch 28/150\n",
      "212/212 [==============================] - 0s 747us/step - loss: 0.0124\n",
      "Epoch 29/150\n",
      "212/212 [==============================] - 0s 886us/step - loss: 0.0129\n",
      "Epoch 30/150\n",
      "212/212 [==============================] - 0s 730us/step - loss: 0.0117\n",
      "Epoch 31/150\n",
      "212/212 [==============================] - 0s 750us/step - loss: 0.0120\n",
      "Epoch 32/150\n",
      "212/212 [==============================] - 0s 891us/step - loss: 0.0127\n",
      "Epoch 33/150\n",
      "212/212 [==============================] - 0s 787us/step - loss: 0.0118\n",
      "Epoch 34/150\n",
      "212/212 [==============================] - 0s 767us/step - loss: 0.0117\n",
      "Epoch 35/150\n",
      "212/212 [==============================] - 0s 820us/step - loss: 0.0123\n",
      "Epoch 36/150\n",
      "212/212 [==============================] - 0s 775us/step - loss: 0.0120\n",
      "Epoch 37/150\n",
      "212/212 [==============================] - 0s 811us/step - loss: 0.0123\n",
      "Epoch 38/150\n",
      "212/212 [==============================] - 0s 773us/step - loss: 0.0123\n",
      "Epoch 39/150\n",
      "212/212 [==============================] - 0s 890us/step - loss: 0.0135\n",
      "Epoch 40/150\n",
      "212/212 [==============================] - 0s 844us/step - loss: 0.0120\n",
      "Epoch 41/150\n",
      "212/212 [==============================] - 0s 802us/step - loss: 0.0118\n",
      "Epoch 42/150\n",
      "212/212 [==============================] - 0s 750us/step - loss: 0.0114\n",
      "Epoch 43/150\n",
      "212/212 [==============================] - 0s 805us/step - loss: 0.0111\n",
      "Epoch 44/150\n",
      "212/212 [==============================] - 0s 844us/step - loss: 0.0111\n",
      "Epoch 45/150\n",
      "212/212 [==============================] - 0s 914us/step - loss: 0.0117\n",
      "Epoch 46/150\n",
      "212/212 [==============================] - 0s 897us/step - loss: 0.0115\n",
      "Epoch 47/150\n",
      "212/212 [==============================] - 0s 853us/step - loss: 0.0114\n",
      "Epoch 48/150\n",
      "212/212 [==============================] - 0s 744us/step - loss: 0.0116\n",
      "Epoch 49/150\n",
      "212/212 [==============================] - 0s 938us/step - loss: 0.0112\n",
      "Epoch 50/150\n",
      "212/212 [==============================] - 0s 1ms/step - loss: 0.0112\n",
      "Epoch 51/150\n",
      "212/212 [==============================] - 0s 800us/step - loss: 0.0109\n",
      "Epoch 52/150\n",
      "212/212 [==============================] - 0s 821us/step - loss: 0.0111\n",
      "Epoch 53/150\n",
      "212/212 [==============================] - 0s 739us/step - loss: 0.0112\n",
      "Epoch 54/150\n",
      "212/212 [==============================] - 0s 672us/step - loss: 0.0117\n",
      "Epoch 55/150\n",
      "212/212 [==============================] - 0s 690us/step - loss: 0.0119\n",
      "Epoch 56/150\n",
      "212/212 [==============================] - 0s 697us/step - loss: 0.0112\n",
      "Epoch 57/150\n",
      "212/212 [==============================] - 0s 691us/step - loss: 0.0122\n",
      "Epoch 58/150\n",
      "212/212 [==============================] - 0s 732us/step - loss: 0.0103\n",
      "Epoch 59/150\n",
      "212/212 [==============================] - 0s 659us/step - loss: 0.0131\n",
      "Epoch 60/150\n",
      "212/212 [==============================] - 0s 638us/step - loss: 0.0116\n",
      "Epoch 61/150\n",
      "212/212 [==============================] - 0s 663us/step - loss: 0.0102\n",
      "Epoch 62/150\n",
      "212/212 [==============================] - 0s 660us/step - loss: 0.0112\n",
      "Epoch 63/150\n",
      "212/212 [==============================] - 0s 693us/step - loss: 0.0104\n",
      "Epoch 64/150\n",
      "212/212 [==============================] - 0s 663us/step - loss: 0.0101\n",
      "Epoch 65/150\n",
      "212/212 [==============================] - 0s 704us/step - loss: 0.0105\n",
      "Epoch 66/150\n",
      "212/212 [==============================] - 0s 682us/step - loss: 0.0105\n",
      "Epoch 67/150\n",
      "212/212 [==============================] - 0s 693us/step - loss: 0.0098\n",
      "Epoch 68/150\n",
      "212/212 [==============================] - 0s 644us/step - loss: 0.0117\n",
      "Epoch 69/150\n",
      "212/212 [==============================] - 0s 641us/step - loss: 0.0121\n",
      "Epoch 70/150\n",
      "212/212 [==============================] - 0s 640us/step - loss: 0.0120\n",
      "Epoch 71/150\n",
      "212/212 [==============================] - 0s 718us/step - loss: 0.0099\n",
      "Epoch 72/150\n",
      "212/212 [==============================] - 0s 938us/step - loss: 0.0103\n",
      "Epoch 73/150\n",
      "212/212 [==============================] - 0s 858us/step - loss: 0.0104\n",
      "Epoch 74/150\n",
      "212/212 [==============================] - 0s 862us/step - loss: 0.0100\n",
      "Epoch 75/150\n",
      "212/212 [==============================] - 0s 727us/step - loss: 0.0116\n",
      "Epoch 76/150\n",
      "212/212 [==============================] - 0s 1ms/step - loss: 0.0112\n",
      "Epoch 77/150\n",
      "212/212 [==============================] - 0s 871us/step - loss: 0.0106\n",
      "Epoch 78/150\n",
      "212/212 [==============================] - 0s 730us/step - loss: 0.0119\n",
      "Epoch 79/150\n",
      "212/212 [==============================] - 0s 833us/step - loss: 0.0107\n",
      "Epoch 80/150\n",
      "212/212 [==============================] - 0s 634us/step - loss: 0.0093\n",
      "Epoch 81/150\n",
      "212/212 [==============================] - 0s 1ms/step - loss: 0.0110\n",
      "Epoch 82/150\n",
      "212/212 [==============================] - 0s 725us/step - loss: 0.0102\n",
      "Epoch 83/150\n",
      "212/212 [==============================] - 0s 789us/step - loss: 0.0103\n",
      "Epoch 84/150\n",
      "212/212 [==============================] - 0s 775us/step - loss: 0.0102\n",
      "Epoch 85/150\n",
      "212/212 [==============================] - 0s 739us/step - loss: 0.0103\n",
      "Epoch 86/150\n",
      "212/212 [==============================] - 0s 714us/step - loss: 0.0102\n",
      "Epoch 87/150\n",
      "212/212 [==============================] - 0s 724us/step - loss: 0.0115\n",
      "Epoch 88/150\n",
      "212/212 [==============================] - 0s 745us/step - loss: 0.0095\n",
      "Epoch 89/150\n",
      "212/212 [==============================] - 0s 748us/step - loss: 0.0117\n",
      "Epoch 90/150\n",
      "212/212 [==============================] - 0s 734us/step - loss: 0.0114\n",
      "Epoch 91/150\n",
      "212/212 [==============================] - 0s 717us/step - loss: 0.0103\n",
      "Epoch 92/150\n",
      "212/212 [==============================] - 0s 722us/step - loss: 0.0098\n",
      "Epoch 93/150\n",
      "212/212 [==============================] - 0s 719us/step - loss: 0.0097\n",
      "Epoch 94/150\n",
      "212/212 [==============================] - 0s 776us/step - loss: 0.0090\n",
      "Epoch 95/150\n",
      "212/212 [==============================] - 0s 682us/step - loss: 0.0090\n",
      "Epoch 96/150\n",
      "212/212 [==============================] - 0s 746us/step - loss: 0.0100\n",
      "Epoch 97/150\n",
      "212/212 [==============================] - 0s 781us/step - loss: 0.0094\n"
     ]
    },
    {
     "name": "stdout",
     "output_type": "stream",
     "text": [
      "Epoch 98/150\n",
      "212/212 [==============================] - 0s 709us/step - loss: 0.0091\n",
      "Epoch 99/150\n",
      "212/212 [==============================] - 0s 627us/step - loss: 0.0093\n",
      "Epoch 100/150\n",
      "212/212 [==============================] - 0s 646us/step - loss: 0.0094\n",
      "Epoch 101/150\n",
      "212/212 [==============================] - 0s 634us/step - loss: 0.0100\n",
      "Epoch 102/150\n",
      "212/212 [==============================] - 0s 641us/step - loss: 0.0089\n",
      "Epoch 103/150\n",
      "212/212 [==============================] - 0s 660us/step - loss: 0.0089\n",
      "Epoch 104/150\n",
      "212/212 [==============================] - 0s 650us/step - loss: 0.0089\n",
      "Epoch 105/150\n",
      "212/212 [==============================] - 0s 665us/step - loss: 0.0083\n",
      "Epoch 106/150\n",
      "212/212 [==============================] - 0s 660us/step - loss: 0.0086\n",
      "Epoch 107/150\n",
      "212/212 [==============================] - 0s 636us/step - loss: 0.0084\n",
      "Epoch 108/150\n",
      "212/212 [==============================] - 0s 660us/step - loss: 0.0090\n",
      "Epoch 109/150\n",
      "212/212 [==============================] - 0s 655us/step - loss: 0.0090\n",
      "Epoch 110/150\n",
      "212/212 [==============================] - 0s 629us/step - loss: 0.0088\n",
      "Epoch 111/150\n",
      "212/212 [==============================] - 0s 712us/step - loss: 0.0097\n",
      "Epoch 112/150\n",
      "212/212 [==============================] - 0s 935us/step - loss: 0.0080\n",
      "Epoch 113/150\n",
      "212/212 [==============================] - 0s 969us/step - loss: 0.0083\n",
      "Epoch 114/150\n",
      "212/212 [==============================] - 0s 675us/step - loss: 0.0083\n",
      "Epoch 115/150\n",
      "212/212 [==============================] - 0s 652us/step - loss: 0.0079\n",
      "Epoch 116/150\n",
      "212/212 [==============================] - 0s 616us/step - loss: 0.0098\n",
      "Epoch 117/150\n",
      "212/212 [==============================] - 0s 676us/step - loss: 0.0121\n",
      "Epoch 118/150\n",
      "212/212 [==============================] - 0s 629us/step - loss: 0.0094\n",
      "Epoch 119/150\n",
      "212/212 [==============================] - 0s 734us/step - loss: 0.0083\n",
      "Epoch 120/150\n",
      "212/212 [==============================] - 0s 767us/step - loss: 0.0084\n",
      "Epoch 121/150\n",
      "212/212 [==============================] - 0s 700us/step - loss: 0.0083\n",
      "Epoch 122/150\n",
      "212/212 [==============================] - 0s 633us/step - loss: 0.0107\n",
      "Epoch 123/150\n",
      "212/212 [==============================] - 0s 775us/step - loss: 0.0119\n",
      "Epoch 124/150\n",
      "212/212 [==============================] - 0s 747us/step - loss: 0.0113\n",
      "Epoch 125/150\n",
      "212/212 [==============================] - 0s 808us/step - loss: 0.0096\n",
      "Epoch 126/150\n",
      "212/212 [==============================] - 0s 720us/step - loss: 0.0088\n",
      "Epoch 127/150\n",
      "212/212 [==============================] - 0s 828us/step - loss: 0.0087\n",
      "Epoch 128/150\n",
      "212/212 [==============================] - 0s 824us/step - loss: 0.0075\n",
      "Epoch 129/150\n",
      "212/212 [==============================] - 0s 714us/step - loss: 0.0076\n",
      "Epoch 130/150\n",
      "212/212 [==============================] - 0s 641us/step - loss: 0.0078\n",
      "Epoch 131/150\n",
      "212/212 [==============================] - 0s 648us/step - loss: 0.0079\n",
      "Epoch 132/150\n",
      "212/212 [==============================] - 0s 1ms/step - loss: 0.0072\n",
      "Epoch 133/150\n",
      "212/212 [==============================] - 0s 1ms/step - loss: 0.0080\n",
      "Epoch 134/150\n",
      "212/212 [==============================] - 0s 715us/step - loss: 0.0080\n",
      "Epoch 135/150\n",
      "212/212 [==============================] - 0s 736us/step - loss: 0.0075\n",
      "Epoch 136/150\n",
      "212/212 [==============================] - 0s 731us/step - loss: 0.0071\n",
      "Epoch 137/150\n",
      "212/212 [==============================] - 0s 755us/step - loss: 0.0075\n",
      "Epoch 138/150\n",
      "212/212 [==============================] - 0s 728us/step - loss: 0.0071\n",
      "Epoch 139/150\n",
      "212/212 [==============================] - 0s 896us/step - loss: 0.0071\n",
      "Epoch 140/150\n",
      "212/212 [==============================] - 0s 669us/step - loss: 0.0082\n",
      "Epoch 141/150\n",
      "212/212 [==============================] - 0s 795us/step - loss: 0.0073\n",
      "Epoch 142/150\n",
      "212/212 [==============================] - 0s 828us/step - loss: 0.0074\n",
      "Epoch 143/150\n",
      "212/212 [==============================] - 0s 874us/step - loss: 0.0081\n",
      "Epoch 144/150\n",
      "212/212 [==============================] - 0s 917us/step - loss: 0.0083\n",
      "Epoch 145/150\n",
      "212/212 [==============================] - 0s 841us/step - loss: 0.0066\n",
      "Epoch 146/150\n",
      "212/212 [==============================] - 0s 710us/step - loss: 0.0070\n",
      "Epoch 147/150\n",
      "212/212 [==============================] - 0s 747us/step - loss: 0.0073\n",
      "Epoch 148/150\n",
      "212/212 [==============================] - 0s 706us/step - loss: 0.0069\n",
      "Epoch 149/150\n",
      "212/212 [==============================] - 0s 727us/step - loss: 0.0072\n",
      "Epoch 150/150\n",
      "212/212 [==============================] - 0s 652us/step - loss: 0.0078\n"
     ]
    },
    {
     "data": {
      "text/plain": [
       "<keras.callbacks.History at 0x1212f0438>"
      ]
     },
     "execution_count": 41,
     "metadata": {},
     "output_type": "execute_result"
    }
   ],
   "source": [
    "model = Sequential()\n",
    "model.add(LSTM(25, return_sequences=True, input_shape=(series, 1)))\n",
    "model.add(Dropout(0.2))\n",
    "model.add(LSTM(30, return_sequences=False))\n",
    "model.add(Dense(1))\n",
    "model.add(Activation('linear'))\n",
    "\n",
    "\n",
    "model.compile(loss='mse', optimizer='adam')\n",
    "model.fit(trainX, trainY, epochs=150, batch_size=30)"
   ]
  },
  {
   "cell_type": "code",
   "execution_count": 42,
   "metadata": {},
   "outputs": [
    {
     "data": {
      "image/png": "[encoded data removed]",
      "text/plain": [
       "<Figure size 432x288 with 1 Axes>"
      ]
     },
     "metadata": {
      "needs_background": "light"
     },
     "output_type": "display_data"
    }
   ],
   "source": [
    "trainPredictions = model.predict(trainX)\n",
    "testPredictions = model.predict(testX)\n",
    "\n",
    "trainPredictions = scaler.inverse_transform(trainPredictions)\n",
    "testPredictions = scaler.inverse_transform(testPredictions)\n",
    "\n",
    "trainY = scaler.inverse_transform([trainY])\n",
    "testY = scaler.inverse_transform([testY])\n",
    "\n",
    "\n",
    "train_plot = np.empty_like(close)\n",
    "train_plot[:,:] = np.nan\n",
    "train_plot[7:len(trainPredictions)+series, :] = trainPredictions\n",
    "\n",
    "test_plot = np.empty_like(close)\n",
    "test_plot[:,:] = np.nan\n",
    "test_plot[len(trainPredictions)+(series*2)+1:len(close)-1, :] = testPredictions\n",
    "\n",
    "plt.plot(scaler.inverse_transform(close))\n",
    "plt.plot(train_plot)\n",
    "plt.plot(test_plot)\n",
    "\n",
    "plt.show()"
   ]
  },
  {
   "cell_type": "code",
   "execution_count": 43,
   "metadata": {},
   "outputs": [
    {
     "name": "stdout",
     "output_type": "stream",
     "text": [
      "Train score: %.2f rmse 1.74446799634281\n",
      "Test score: %.2f rmse 2.402572655894238\n"
     ]
    }
   ],
   "source": [
    "trainScore = math.sqrt(mean_squared_error(trainY[0], trainPredictions[:, 0]))\n",
    "testScore = math.sqrt(mean_squared_error(testY[0], testPredictions[:, 0]))\n",
    "print('Train score: %.2f rmse', trainScore)\n",
    "print('Test score: %.2f rmse', testScore)"
   ]
  },
  {
   "cell_type": "markdown",
   "metadata": {},
   "source": [
    "### Gaussian process regressor\n",
    "\n",
    "\n",
    "The below code is organised as follow\n",
    "- Scaling data as preprocessing\n",
    "- Covert stock data to time series data\n",
    "- Define GPR model with Matern and RBF Kernal\n",
    "- Calculate Mean square loss error."
   ]
  },
  {
   "cell_type": "code",
   "execution_count": 44,
   "metadata": {},
   "outputs": [],
   "source": [
    "from sklearn.gaussian_process import GaussianProcessRegressor\n",
    "from sklearn.gaussian_process.kernels import RBF, ConstantKernel, Matern"
   ]
  },
  {
   "cell_type": "code",
   "execution_count": 45,
   "metadata": {},
   "outputs": [
    {
     "name": "stdout",
     "output_type": "stream",
     "text": [
      "(212, 7) (212,)\n",
      "(24, 7) (24,)\n"
     ]
    }
   ],
   "source": [
    "trainX, trainY = create_ts(TrainData, series=7)\n",
    "testX, testY = create_ts(TestData, series=7)\n",
    "\n",
    "trainX = np.reshape(trainX, (trainX.shape[0], trainX.shape[1]))\n",
    "testX = np.reshape(testX, (testX.shape[0], testX.shape[1]))\n",
    "\n",
    "\n",
    "print (trainX.shape, trainY.shape)\n",
    "print(testX.shape, testY.shape)\n",
    "\n",
    "shape_train = trainX.shape[0]\n",
    "shape_test = testX.shape[0]"
   ]
  },
  {
   "cell_type": "code",
   "execution_count": 46,
   "metadata": {},
   "outputs": [
    {
     "data": {
      "text/plain": [
       "GaussianProcessRegressor(alpha=1e-10, copy_X_train=True,\n",
       "             kernel=Matern(length_scale=1, nu=1.5) * RBF(length_scale=10),\n",
       "             n_restarts_optimizer=9, normalize_y=False,\n",
       "             optimizer='fmin_l_bfgs_b', random_state=None)"
      ]
     },
     "execution_count": 46,
     "metadata": {},
     "output_type": "execute_result"
    }
   ],
   "source": [
    "kernel = Matern(1.0, (1e-3, 1e3)) * RBF(10, (1e-2, 1e2))\n",
    "\n",
    "gpr = GaussianProcessRegressor(kernel=kernel, n_restarts_optimizer=9)\n",
    "gpr.fit(trainX, trainY)\n"
   ]
  },
  {
   "cell_type": "code",
   "execution_count": 47,
   "metadata": {},
   "outputs": [
    {
     "name": "stdout",
     "output_type": "stream",
     "text": [
      "(212, 1)\n",
      "(24, 1)\n"
     ]
    },
    {
     "data": {
      "image/png": "[encoded data removed]",
      "text/plain": [
       "<Figure size 432x288 with 1 Axes>"
      ]
     },
     "metadata": {
      "needs_background": "light"
     },
     "output_type": "display_data"
    }
   ],
   "source": [
    "trainPredictions = gpr.predict(trainX)\n",
    "testPredictions = gpr.predict(testX)\n",
    "\n",
    "\n",
    "trainPredictions = np.reshape(trainPredictions, [shape_train,1])\n",
    "testPredictions = np.reshape(testPredictions, [shape_test,1])\n",
    "\n",
    "print(trainPredictions.shape)\n",
    "print(testPredictions.shape)\n",
    "\n",
    "\n",
    "trainPredictions = scaler.inverse_transform(trainPredictions)\n",
    "testPredictions = scaler.inverse_transform(testPredictions)\n",
    "\n",
    "trainY = np.reshape(trainY, [shape_train,1])\n",
    "testY = np.reshape(testY, [shape_test,1])\n",
    "trainY = scaler.inverse_transform(trainY)\n",
    "testY = scaler.inverse_transform(testY)\n",
    "\n",
    "train_plot = np.empty_like(close)\n",
    "train_plot[:,:] = np.nan\n",
    "train_plot[7:len(trainPredictions)+series, :] = trainPredictions\n",
    "\n",
    "\n",
    "test_plot = np.empty_like(close)\n",
    "test_plot[:,:] = np.nan\n",
    "test_plot[len(trainPredictions)+(series*2)+1:len(close)-1, :] = testPredictions\n",
    "\n",
    "\n",
    "#future_plot = np.empty_like(close)\n",
    "#test_plot[:,:] = np.nan\n",
    "\n",
    "plt.plot(scaler.inverse_transform(close))\n",
    "plt.plot(train_plot)\n",
    "plt.plot(test_plot)\n",
    "\n",
    "plt.show()\n"
   ]
  },
  {
   "cell_type": "code",
   "execution_count": 48,
   "metadata": {},
   "outputs": [
    {
     "name": "stdout",
     "output_type": "stream",
     "text": [
      "Train score: %.2f rmse 3.352558465508082e-06\n",
      "Test score: %.2f rmse 2.8105365915334204\n"
     ]
    }
   ],
   "source": [
    "#print(testY.shape, testPredictions.shape)\n",
    "trainScore = math.sqrt(mean_squared_error(trainY[0], trainPredictions[0]))\n",
    "testScore = math.sqrt(mean_squared_error(testY[0], testPredictions[0]))\n",
    "print('Train score: %.2f rmse', trainScore)\n",
    "print('Test score: %.2f rmse', testScore)"
   ]
  },
  {
   "cell_type": "code",
   "execution_count": null,
   "metadata": {},
   "outputs": [],
   "source": []
  }
 ],
 "metadata": {
  "kernelspec": {
   "display_name": "Python 3",
   "language": "python",
   "name": "python3"
  },
  "language_info": {
   "codemirror_mode": {
    "name": "ipython",
    "version": 3
   },
   "file_extension": ".py",
   "mimetype": "text/x-python",
   "name": "python",
   "nbconvert_exporter": "python",
   "pygments_lexer": "ipython3",
   "version": "3.6.5"
  }
 },
 "nbformat": 4,
 "nbformat_minor": 2
}
